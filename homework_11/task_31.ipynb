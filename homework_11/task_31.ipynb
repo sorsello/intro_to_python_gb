{
 "cells": [
  {
   "cell_type": "code",
   "execution_count": null,
   "metadata": {},
   "outputs": [],
   "source": [
    "import pandas as pd\n",
    "\n",
    "df = pd.read_csv(\"california_housing_test.csv\")"
   ]
  },
  {
   "cell_type": "code",
   "execution_count": null,
   "metadata": {},
   "outputs": [],
   "source": [
    "# Задача 40 - Определить среднюю стоимость дома, где кол-во людей от 0 до 500 (population)\n",
    "\n",
    "df[df[\"population\"] <= 500][\"median_house_value\"].mean()"
   ]
  },
  {
   "cell_type": "code",
   "execution_count": null,
   "metadata": {},
   "outputs": [],
   "source": [
    "# Задача 42 - Узнать какая максимальная households в зоне минимального значения population\n",
    "\n",
    "df[df[\"population\"] == df[\"population\"].min()][\"households\"].max()"
   ]
  }
 ],
 "metadata": {
  "kernelspec": {
   "display_name": "Python 3",
   "language": "python",
   "name": "python3"
  },
  "language_info": {
   "codemirror_mode": {
    "name": "ipython",
    "version": 3
   },
   "file_extension": ".py",
   "mimetype": "text/x-python",
   "name": "python",
   "nbconvert_exporter": "python",
   "pygments_lexer": "ipython3",
   "version": "3.9.6"
  },
  "orig_nbformat": 4,
  "vscode": {
   "interpreter": {
    "hash": "a6ba3cb6e85cc28b67cdaafa8f40a509eb76b6803d8ac5685b8df5481fd7f012"
   }
  }
 },
 "nbformat": 4,
 "nbformat_minor": 2
}
